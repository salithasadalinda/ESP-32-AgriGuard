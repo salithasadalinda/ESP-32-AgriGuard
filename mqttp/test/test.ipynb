{
 "cells": [
  {
   "cell_type": "code",
   "execution_count": 5,
   "metadata": {},
   "outputs": [
    {
     "name": "stdout",
     "output_type": "stream",
     "text": [
      "Error: 1049 (42000): Unknown database 'agriguard'\n"
     ]
    }
   ],
   "source": [
    "import mysql.connector\n",
    "from mysql.connector import Error\n",
    "\n",
    "def fetch_logs_by_username(username):\n",
    "    cursor = None  # Initialize cursor to None\n",
    "    cnx = None  # Initialize connection to None\n",
    "    try:\n",
    "        # Establish a connection to the database\n",
    "        cnx = mysql.connector.connect(\n",
    "            user='root',\n",
    "            password='root',\n",
    "            host='localhost',\n",
    "            database='agriguard'\n",
    "        )\n",
    "        cursor = cnx.cursor(dictionary=True)\n",
    "\n",
    "        # Define the query\n",
    "        query = \"\"\"\n",
    "            SELECT log.* \n",
    "            FROM agriguard.log AS log\n",
    "            JOIN agriguard.users AS users ON log.userid = users.userid\n",
    "            WHERE users.username = %s\n",
    "        \"\"\"\n",
    "\n",
    "        # Execute the query with parameter\n",
    "        cursor.execute(query, (username,))\n",
    "\n",
    "        # Fetch all results\n",
    "        results = cursor.fetchall()\n",
    "        if results:\n",
    "            for row in results:\n",
    "                print(row)\n",
    "        else:\n",
    "            print(\"No records found.\")\n",
    "\n",
    "    except Error as err:\n",
    "        print(f\"Error: {err}\")\n",
    "    \n",
    "    finally:\n",
    "        if cursor is not None:\n",
    "            cursor.close()\n",
    "        if cnx is not None:\n",
    "            cnx.close()\n",
    "\n",
    "# Example usage\n",
    "fetch_logs_by_username('admin1234')\n"
   ]
  },
  {
   "cell_type": "code",
   "execution_count": null,
   "metadata": {},
   "outputs": [],
   "source": []
  }
 ],
 "metadata": {
  "kernelspec": {
   "display_name": "faceID_env",
   "language": "python",
   "name": "python3"
  },
  "language_info": {
   "codemirror_mode": {
    "name": "ipython",
    "version": 3
   },
   "file_extension": ".py",
   "mimetype": "text/x-python",
   "name": "python",
   "nbconvert_exporter": "python",
   "pygments_lexer": "ipython3",
   "version": "3.8.18"
  }
 },
 "nbformat": 4,
 "nbformat_minor": 2
}
